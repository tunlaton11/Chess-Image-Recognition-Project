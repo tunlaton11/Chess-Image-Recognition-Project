{
 "cells": [
  {
   "cell_type": "code",
   "execution_count": 14,
   "metadata": {},
   "outputs": [],
   "source": [
    "import numpy as np\n",
    "import matplotlib.pyplot as plt\n",
    "import cv2\n",
    "import sklearn.neighbors as sn\n",
    "import skimage.transform as skt\n",
    "from sklearn import svm\n",
    "from sklearn.naive_bayes import GaussianNB\n",
    "from skimage.feature import hog\n",
    "\n"
   ]
  },
  {
   "cell_type": "code",
   "execution_count": 15,
   "metadata": {},
   "outputs": [],
   "source": [
    "img_array = np.load('img_array.npy')\n",
    "label_array = np.load('label_array.npy')"
   ]
  },
  {
   "cell_type": "markdown",
   "metadata": {},
   "source": [
    "# Feature extraction (Radon Transform)"
   ]
  },
  {
   "cell_type": "code",
   "execution_count": 16,
   "metadata": {},
   "outputs": [],
   "source": [
    "feature_array = []\n",
    "\n",
    "\n",
    "for img in img_array:\n",
    "\n",
    "    #Sobel (Edge)\n",
    "    filtY = np.array([[1, 2, 1],[0, 0, 0],[-1, -2, -1]])\n",
    "    filtX = np.array([[-1, 0, 1], [-2, 0, 2], [-1, 0, 1]])\n",
    "\n",
    "    outX = cv2.filter2D(img,-1,filtX,borderType=0)/112\n",
    "    outY = cv2.filter2D(img,-1,filtY,borderType=0)/112\n",
    "    img = np.sqrt((outX**2)+(outY**2))\n",
    "\n",
    "\n",
    "    tta = np.linspace(0., 180., max(img.shape), endpoint=False)\n",
    "    sinogram = skt.radon(img, theta=tta)\n",
    "\n",
    "\n",
    "    feature_array.append(np.array(sinogram).reshape(-1,1))\n",
    "\n",
    "\n",
    "feature_array = np.array(feature_array).reshape(554,-1)\n"
   ]
  },
  {
   "cell_type": "markdown",
   "metadata": {},
   "source": [
    "# Split Train and Test"
   ]
  },
  {
   "cell_type": "code",
   "execution_count": 17,
   "metadata": {},
   "outputs": [],
   "source": [
    "from sklearn.model_selection import train_test_split\n",
    "\n",
    "#train, train_label\n",
    "#test, test_label\n",
    "\n",
    "train, test, train_label, test_label = train_test_split(feature_array, label_array, test_size=0.2, random_state=7)"
   ]
  },
  {
   "cell_type": "markdown",
   "metadata": {},
   "source": [
    "# Train"
   ]
  },
  {
   "cell_type": "markdown",
   "metadata": {},
   "source": [
    "## KNN Model"
   ]
  },
  {
   "cell_type": "code",
   "execution_count": 18,
   "metadata": {},
   "outputs": [
    {
     "data": {
      "text/plain": [
       "KNeighborsClassifier(metric='euclidean', n_neighbors=3)"
      ]
     },
     "execution_count": 18,
     "metadata": {},
     "output_type": "execute_result"
    }
   ],
   "source": [
    "clf_knn = sn.KNeighborsClassifier(n_neighbors=3, metric='euclidean')\n",
    "clf_knn.fit(train, train_label)"
   ]
  },
  {
   "cell_type": "markdown",
   "metadata": {},
   "source": [
    "## SVM Model"
   ]
  },
  {
   "cell_type": "code",
   "execution_count": 19,
   "metadata": {},
   "outputs": [
    {
     "data": {
      "text/plain": [
       "SVC(C=1, decision_function_shape='ovo', kernel='linear')"
      ]
     },
     "execution_count": 19,
     "metadata": {},
     "output_type": "execute_result"
    }
   ],
   "source": [
    "clf_svm = svm.SVC(kernel='linear', C=1, decision_function_shape='ovo',)\n",
    "clf_svm.fit(train, train_label)"
   ]
  },
  {
   "cell_type": "markdown",
   "metadata": {},
   "source": [
    "## Naive Bayes Model"
   ]
  },
  {
   "cell_type": "code",
   "execution_count": 20,
   "metadata": {},
   "outputs": [
    {
     "data": {
      "text/plain": [
       "GaussianNB()"
      ]
     },
     "execution_count": 20,
     "metadata": {},
     "output_type": "execute_result"
    }
   ],
   "source": [
    "clf_nab = GaussianNB()\n",
    "clf_nab.fit(train, train_label)"
   ]
  },
  {
   "cell_type": "markdown",
   "metadata": {},
   "source": [
    "# Test"
   ]
  },
  {
   "cell_type": "code",
   "execution_count": 21,
   "metadata": {},
   "outputs": [],
   "source": [
    "pred_knn = clf_knn.predict(test)\n",
    "pred_svm = clf_svm.predict(test)\n",
    "pred_nab = clf_nab.predict(test)"
   ]
  },
  {
   "cell_type": "markdown",
   "metadata": {},
   "source": [
    "## Accuracy"
   ]
  },
  {
   "cell_type": "code",
   "execution_count": 22,
   "metadata": {},
   "outputs": [
    {
     "name": "stdout",
     "output_type": "stream",
     "text": [
      "KNN Model Accuracy: 0.25\n",
      "SVM Model Accuracy: 0.41\n",
      "Naive Bayes Model Accuracy: 0.3\n"
     ]
    }
   ],
   "source": [
    "from sklearn.metrics import accuracy_score\n",
    "\n",
    "score_knn = round(accuracy_score(test_label, pred_knn),2)\n",
    "score_svm = round(accuracy_score(test_label, pred_svm),2)\n",
    "score_nab = round(accuracy_score(test_label, pred_nab),2)\n",
    "\n",
    "print(\"KNN Model Accuracy:\", score_knn)\n",
    "print(\"SVM Model Accuracy:\", score_svm)\n",
    "print(\"Naive Bayes Model Accuracy:\", score_nab)"
   ]
  },
  {
   "cell_type": "code",
   "execution_count": 24,
   "metadata": {},
   "outputs": [
    {
     "name": "stdout",
     "output_type": "stream",
     "text": [
      "              precision    recall  f1-score   support\n",
      "\n",
      "      Bishop       0.67      0.60      0.63        20\n",
      "        King       0.25      0.27      0.26        15\n",
      "      Knight       0.50      0.45      0.47        20\n",
      "        Pawn       0.35      0.30      0.33        23\n",
      "       Queen       0.22      0.27      0.24        15\n",
      "        Rook       0.43      0.50      0.46        18\n",
      "\n",
      "    accuracy                           0.41       111\n",
      "   macro avg       0.40      0.40      0.40       111\n",
      "weighted avg       0.42      0.41      0.41       111\n",
      "\n"
     ]
    }
   ],
   "source": [
    "from sklearn.metrics import classification_report\n",
    "\n",
    "report_svm = classification_report(test_label, pred_svm, target_names=clf_svm.classes_)\n",
    "print(report_svm)"
   ]
  },
  {
   "cell_type": "markdown",
   "metadata": {},
   "source": [
    "## Confusion Matrix plot\n"
   ]
  },
  {
   "cell_type": "code",
   "execution_count": 23,
   "metadata": {},
   "outputs": [
    {
     "data": {
      "image/png": "[encoded data removed]",
      "text/plain": [
       "<Figure size 432x288 with 2 Axes>"
      ]
     },
     "metadata": {
      "needs_background": "light"
     },
     "output_type": "display_data"
    },
    {
     "data": {
      "image/png": "[encoded data removed]",
      "text/plain": [
       "<Figure size 432x288 with 2 Axes>"
      ]
     },
     "metadata": {
      "needs_background": "light"
     },
     "output_type": "display_data"
    },
    {
     "data": {
      "image/png": "[encoded data removed]",
      "text/plain": [
       "<Figure size 432x288 with 2 Axes>"
      ]
     },
     "metadata": {
      "needs_background": "light"
     },
     "output_type": "display_data"
    }
   ],
   "source": [
    "from sklearn.metrics import confusion_matrix, ConfusionMatrixDisplay\n",
    "\n",
    "cm_svm = confusion_matrix(test_label, pred_svm)\n",
    "disp_svm = ConfusionMatrixDisplay(confusion_matrix=cm_svm, display_labels=clf_svm.classes_)\n",
    "\n",
    "cm_knn = confusion_matrix(test_label, pred_knn)\n",
    "disp_knn = ConfusionMatrixDisplay(confusion_matrix=cm_knn, display_labels=clf_knn.classes_)\n",
    "\n",
    "cm_nab = confusion_matrix(test_label, pred_nab)\n",
    "disp_nab = ConfusionMatrixDisplay(confusion_matrix=cm_nab, display_labels=clf_nab.classes_)\n",
    "\n",
    "disp_knn.plot()\n",
    "disp_knn.ax_.set_title('KNN Model  '+str(score_knn)+'  Accuracy')\n",
    "\n",
    "disp_svm.plot()\n",
    "disp_svm.ax_.set_title('SVM Model  '+str(score_svm)+'  Accuracy')\n",
    "\n",
    "disp_nab.plot()\n",
    "disp_nab.ax_.set_title('Naive Bayes Model  '+str(score_nab)+'  Accuracy')\n",
    "\n",
    "plt.show()"
   ]
  }
 ],
 "metadata": {
  "interpreter": {
   "hash": "916dbcbb3f70747c44a77c7bcd40155683ae19c65e1c03b4aa3499c5328201f1"
  },
  "kernelspec": {
   "display_name": "Python 3.9.7 64-bit",
   "language": "python",
   "name": "python3"
  },
  "language_info": {
   "codemirror_mode": {
    "name": "ipython",
    "version": 3
   },
   "file_extension": ".py",
   "mimetype": "text/x-python",
   "name": "python",
   "nbconvert_exporter": "python",
   "pygments_lexer": "ipython3",
   "version": "3.8.8"
  },
  "orig_nbformat": 4
 },
 "nbformat": 4,
 "nbformat_minor": 2
}
