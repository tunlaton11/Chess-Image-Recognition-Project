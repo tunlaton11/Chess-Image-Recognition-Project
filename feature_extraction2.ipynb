{
 "cells": [
  {
   "cell_type": "code",
   "execution_count": 1,
   "metadata": {},
   "outputs": [],
   "source": [
    "import numpy as np\n",
    "import matplotlib.pyplot as plt\n",
    "import cv2\n",
    "import sklearn.neighbors as sn\n",
    "import skimage.transform as skt\n",
    "from sklearn import svm\n",
    "from sklearn.naive_bayes import GaussianNB\n",
    "from skimage.feature import daisy, hog\n",
    "import mahotas as mt"
   ]
  },
  {
   "cell_type": "code",
   "execution_count": 2,
   "metadata": {},
   "outputs": [],
   "source": [
    "img_array = np.load('img_array.npy')\n",
    "label_array = np.load('label_array.npy')\n"
   ]
  },
  {
   "cell_type": "markdown",
   "metadata": {},
   "source": [
    "# Split to train and test"
   ]
  },
  {
   "cell_type": "code",
   "execution_count": 3,
   "metadata": {},
   "outputs": [],
   "source": [
    "from sklearn.model_selection import train_test_split\n",
    "\n",
    "#train, train_label\n",
    "#test, test_label\n",
    "\n",
    "train, test, train_label, test_label = train_test_split(img_array, label_array, test_size=0.2, random_state=7)"
   ]
  },
  {
   "cell_type": "markdown",
   "metadata": {},
   "source": [
    "# Extract Feature (Train)"
   ]
  },
  {
   "cell_type": "code",
   "execution_count": 4,
   "metadata": {},
   "outputs": [
    {
     "name": "stderr",
     "output_type": "stream",
     "text": [
      "C:\\Users\\Tunwongchai\\anaconda3\\lib\\site-packages\\skimage\\transform\\radon_transform.py:83: UserWarning: Radon transform: image must be zero outside the reconstruction circle\n",
      "  warn('Radon transform: image must be zero outside the '\n"
     ]
    }
   ],
   "source": [
    "# Extrain feature to train\n",
    "\n",
    "feature_1 = []\n",
    "feature_2 = []\n",
    "\n",
    "for img in train:\n",
    "\n",
    "    # feature1 >> sobel + hog + radon\n",
    "    filtY = np.array([[1, 2, 1],[0, 0, 0],[-1, -2, -1]])\n",
    "    filtX = np.array([[-1, 0, 1], [-2, 0, 2], [-1, 0, 1]])\n",
    "\n",
    "    outX = cv2.filter2D(img,-1,filtX,borderType=0)/112\n",
    "    outY = cv2.filter2D(img,-1,filtY,borderType=0)/112\n",
    "    img_1 = np.sqrt((outX**2)+(outY**2))\n",
    "\n",
    "    _, img_1 = hog(img_1, orientations=20, pixels_per_cell=(10, 10),\n",
    "                \tcells_per_block=(2, 2), visualize=True, multichannel=False)\n",
    "\n",
    "    tta = np.linspace(0., 180., max(img.shape), endpoint=False, )\n",
    "    img_1 = skt.radon(img_1, theta=tta)\n",
    "\n",
    "\n",
    "    # feature2 >> LBP\n",
    "\n",
    "    img_2 = mt.features.lbp(img, 10 ,5, ignore_zeros=False,)\n",
    "\n",
    "    feature_1.append(np.array(img_1).reshape(-1,1))\n",
    "    feature_2.append(np.array(img_2).reshape(-1,1))\n",
    "\n",
    "\n",
    "feature_1 = np.array(feature_1).reshape(len(feature_1),-1)\n",
    "\n",
    "feature_2 = np.array(feature_2).reshape(len(feature_2),-1)\n",
    "\n",
    "feature_Tr = np.concatenate((feature_1, feature_2), axis=1)\n",
    "\n"
   ]
  },
  {
   "cell_type": "markdown",
   "metadata": {},
   "source": [
    "# Train"
   ]
  },
  {
   "cell_type": "code",
   "execution_count": 5,
   "metadata": {},
   "outputs": [
    {
     "data": {
      "text/plain": [
       "SVC(C=1, decision_function_shape='ovo', kernel='linear')"
      ]
     },
     "execution_count": 5,
     "metadata": {},
     "output_type": "execute_result"
    }
   ],
   "source": [
    "clf_svm = svm.SVC(kernel='linear', C=1, decision_function_shape='ovo',)\n",
    "clf_svm.fit(feature_Tr, train_label)"
   ]
  },
  {
   "cell_type": "code",
   "execution_count": 6,
   "metadata": {},
   "outputs": [
    {
     "data": {
      "text/plain": [
       "GaussianNB()"
      ]
     },
     "execution_count": 6,
     "metadata": {},
     "output_type": "execute_result"
    }
   ],
   "source": [
    "clf_nab = GaussianNB()\n",
    "clf_nab.fit(feature_Tr, train_label)"
   ]
  },
  {
   "cell_type": "code",
   "execution_count": 7,
   "metadata": {},
   "outputs": [
    {
     "data": {
      "text/plain": [
       "KNeighborsClassifier(metric='euclidean', n_neighbors=3)"
      ]
     },
     "execution_count": 7,
     "metadata": {},
     "output_type": "execute_result"
    }
   ],
   "source": [
    "clf_knn = sn.KNeighborsClassifier(n_neighbors=3, metric='euclidean')\n",
    "clf_knn.fit(feature_Tr, train_label)"
   ]
  },
  {
   "cell_type": "markdown",
   "metadata": {},
   "source": [
    "# Extact Feature (Test)"
   ]
  },
  {
   "cell_type": "code",
   "execution_count": 8,
   "metadata": {},
   "outputs": [
    {
     "name": "stderr",
     "output_type": "stream",
     "text": [
      "C:\\Users\\Tunwongchai\\anaconda3\\lib\\site-packages\\skimage\\transform\\radon_transform.py:83: UserWarning: Radon transform: image must be zero outside the reconstruction circle\n",
      "  warn('Radon transform: image must be zero outside the '\n"
     ]
    }
   ],
   "source": [
    "# Extrain feature to test\n",
    "\n",
    "feature_1 = []\n",
    "feature_2 = []\n",
    "\n",
    "for img in test:\n",
    "\n",
    "    # feature1 >> sobel + hog + radon\n",
    "    filtY = np.array([[1, 2, 1],[0, 0, 0],[-1, -2, -1]])\n",
    "    filtX = np.array([[-1, 0, 1], [-2, 0, 2], [-1, 0, 1]])\n",
    "\n",
    "    outX = cv2.filter2D(img,-1,filtX,borderType=0)/112\n",
    "    outY = cv2.filter2D(img,-1,filtY,borderType=0)/112\n",
    "    img_1 = np.sqrt((outX**2)+(outY**2))\n",
    "\n",
    "    _, img_1 = hog(img_1, orientations=20, pixels_per_cell=(10, 10),\n",
    "                \tcells_per_block=(2, 2), visualize=True, multichannel=False)\n",
    "\n",
    "    tta = np.linspace(0., 180., max(img.shape), endpoint=False, )\n",
    "    img_1 = skt.radon(img_1, theta=tta)\n",
    "\n",
    "\n",
    "    # feature2 >> LBP\n",
    "\n",
    "    img_2 = mt.features.lbp(img, 10 ,5, ignore_zeros=False,)\n",
    "\n",
    "    feature_1.append(np.array(img_1).reshape(-1,1))\n",
    "    feature_2.append(np.array(img_2).reshape(-1,1))\n",
    "\n",
    "\n",
    "feature_1 = np.array(feature_1).reshape(len(feature_1),-1)\n",
    "\n",
    "feature_2 = np.array(feature_2).reshape(len(feature_2),-1)\n",
    "\n",
    "feature_Ts = np.concatenate((feature_1, feature_2), axis=1)\n",
    "\n"
   ]
  },
  {
   "cell_type": "markdown",
   "metadata": {},
   "source": [
    "# Predict and Result"
   ]
  },
  {
   "cell_type": "code",
   "execution_count": 9,
   "metadata": {},
   "outputs": [],
   "source": [
    "pred_knn = clf_knn.predict(feature_Ts)\n",
    "pred_svm = clf_svm.predict(feature_Ts)\n",
    "pred_nab = clf_nab.predict(feature_Ts)"
   ]
  },
  {
   "cell_type": "code",
   "execution_count": 10,
   "metadata": {},
   "outputs": [
    {
     "name": "stdout",
     "output_type": "stream",
     "text": [
      "KNN Model Accuracy: 0.19\n",
      "SVM Model Accuracy: 0.59\n",
      "Naive Bayes Model Accuracy: 0.27\n"
     ]
    }
   ],
   "source": [
    "from sklearn.metrics import accuracy_score\n",
    "\n",
    "score_knn = round(accuracy_score(test_label, pred_knn),2)\n",
    "score_svm = round(accuracy_score(test_label, pred_svm),2)\n",
    "score_nab = round(accuracy_score(test_label, pred_nab),2)\n",
    "\n",
    "print(\"KNN Model Accuracy:\", score_knn)\n",
    "print(\"SVM Model Accuracy:\", score_svm)\n",
    "print(\"Naive Bayes Model Accuracy:\", score_nab)\n"
   ]
  },
  {
   "cell_type": "code",
   "execution_count": null,
   "metadata": {},
   "outputs": [
    {
     "name": "stdout",
     "output_type": "stream",
     "text": [
      "              precision    recall  f1-score   support\n",
      "\n",
      "      Bishop       0.52      0.60      0.56        20\n",
      "        King       0.50      0.67      0.57        15\n",
      "      Knight       0.75      0.90      0.82        20\n",
      "        Pawn       0.67      0.43      0.53        23\n",
      "       Queen       0.36      0.33      0.34        15\n",
      "        Rook       0.67      0.56      0.61        18\n",
      "\n",
      "    accuracy                           0.59       111\n",
      "   macro avg       0.58      0.58      0.57       111\n",
      "weighted avg       0.59      0.59      0.58       111\n",
      "\n"
     ]
    }
   ],
   "source": [
    "from sklearn.metrics import classification_report\n",
    "\n",
    "report_svm = classification_report(test_label, pred_svm, target_names=clf_svm.classes_)\n",
    "print(report_svm)"
   ]
  },
  {
   "cell_type": "code",
   "execution_count": null,
   "metadata": {},
   "outputs": [
    {
     "data": {
      "image/png": "[encoded data removed]",
      "text/plain": [
       "<Figure size 432x288 with 2 Axes>"
      ]
     },
     "metadata": {
      "needs_background": "light"
     },
     "output_type": "display_data"
    },
    {
     "data": {
      "image/png": "[encoded data removed]",
      "text/plain": [
       "<Figure size 432x288 with 2 Axes>"
      ]
     },
     "metadata": {
      "needs_background": "light"
     },
     "output_type": "display_data"
    },
    {
     "data": {
      "image/png": "[encoded data removed]",
      "text/plain": [
       "<Figure size 432x288 with 2 Axes>"
      ]
     },
     "metadata": {
      "needs_background": "light"
     },
     "output_type": "display_data"
    }
   ],
   "source": [
    "from sklearn.metrics import confusion_matrix, ConfusionMatrixDisplay\n",
    "\n",
    "cm_svm = confusion_matrix(test_label, pred_svm)\n",
    "disp_svm = ConfusionMatrixDisplay(confusion_matrix=cm_svm, display_labels=clf_svm.classes_)\n",
    "\n",
    "cm_knn = confusion_matrix(test_label, pred_knn)\n",
    "disp_knn = ConfusionMatrixDisplay(confusion_matrix=cm_knn, display_labels=clf_knn.classes_)\n",
    "\n",
    "cm_nab = confusion_matrix(test_label, pred_nab)\n",
    "disp_nab = ConfusionMatrixDisplay(confusion_matrix=cm_nab, display_labels=clf_nab.classes_)\n",
    "\n",
    "disp_knn.plot()\n",
    "disp_knn.ax_.set_title('KNN Model  '+str(score_knn)+'  Accuracy')\n",
    "\n",
    "disp_svm.plot()\n",
    "disp_svm.ax_.set_title('SVM Model  '+str(score_svm)+'  Accuracy')\n",
    "\n",
    "disp_nab.plot()\n",
    "disp_nab.ax_.set_title('Naive Bayes Model  '+str(score_nab)+'  Accuracy')\n",
    "\n",
    "plt.show()"
   ]
  },
  {
   "cell_type": "code",
   "execution_count": null,
   "metadata": {},
   "outputs": [],
   "source": [
    "# plot true img\n",
    "plt.figure(figsize=(20,20),facecolor='white')\n",
    "i = 1\n",
    "for idx, input, prediction, label in zip(enumerate(test), test, pred_svm, test_label):\n",
    "\n",
    "    if prediction == label:\n",
    "        # print(\"No.\", idx[0], 'input,',input, ', has been classified as', prediction, 'and should be', label) \n",
    "        plt.subplot(10,7,i)\n",
    "        plt.xticks([])\n",
    "        plt.yticks([])\n",
    "        \n",
    "        plt.imshow(input, cmap='gray')\n",
    "        plt.xlabel('Pred:'+ str(prediction)+ '  True: '+ str(label), )\n",
    "        i += 1"
   ]
  },
  {
   "cell_type": "code",
   "execution_count": null,
   "metadata": {},
   "outputs": [],
   "source": [
    "#plot wrong img\n",
    "plt.figure(figsize=(20,20), facecolor='white')\n",
    "i = 1\n",
    "for idx, input, prediction, label in zip(enumerate(test), test, pred_svm, test_label):\n",
    "\n",
    "    if prediction != label:\n",
    "        # print(\"No.\", idx[0], 'input,',input, ', has been classified as', prediction, 'and should be', label) \n",
    "        plt.subplot(9,6,i)\n",
    "        plt.xticks([])\n",
    "        plt.yticks([])\n",
    "\n",
    "        plt.imshow(input, cmap='gray')\n",
    "        plt.xlabel('Pred:'+ str(prediction)+ '  True: '+ str(label), )\n",
    "        i += 1"
   ]
  }
 ],
 "metadata": {
  "interpreter": {
   "hash": "a7370e5a85696362532594cad54e57302bfb70387e9ba5221d1508abac4f09ab"
  },
  "kernelspec": {
   "display_name": "Python 3.8.8 ('base')",
   "language": "python",
   "name": "python3"
  },
  "language_info": {
   "codemirror_mode": {
    "name": "ipython",
    "version": 3
   },
   "file_extension": ".py",
   "mimetype": "text/x-python",
   "name": "python",
   "nbconvert_exporter": "python",
   "pygments_lexer": "ipython3",
   "version": "3.9.7"
  },
  "orig_nbformat": 4
 },
 "nbformat": 4,
 "nbformat_minor": 2
}
